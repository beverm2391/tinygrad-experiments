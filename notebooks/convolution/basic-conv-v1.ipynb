{
 "cells": [
  {
   "cell_type": "code",
   "execution_count": 1,
   "metadata": {},
   "outputs": [],
   "source": [
    "import numpy as np\n",
    "from tinygrad.tensor import Tensor"
   ]
  },
  {
   "cell_type": "code",
   "execution_count": 18,
   "metadata": {},
   "outputs": [],
   "source": [
    "# Create a 5x5 grayscale image (all values are intensity from 0 to 255)\n",
    "image = np.array([[10, 20, 30, 40, 50],\n",
    "                  [20, 30, 40, 50, 60],\n",
    "                  [30, 40, 50, 60, 70],\n",
    "                  [40, 50, 60, 70, 80],\n",
    "                  [50, 60, 70, 80, 90]])\n",
    "\n",
    "# Create a 3x3 filter (this is just an example, filters are usually learned during the training process)\n",
    "filter_ = np.array([[1, 0, -1],\n",
    "                    [1, 0, -1],\n",
    "                    [1, 0, -1]])\n",
    "\n",
    "# Initialize an empty 3x3 array to hold the output (feature map)\n",
    "feature_map = np.zeros((3, 3))"
   ]
  },
  {
   "cell_type": "code",
   "execution_count": 20,
   "metadata": {},
   "outputs": [],
   "source": [
    "for i in range(1, len(image[0]) - 1): # skip edges (0), len(image[0])\n",
    "    for j in range(1, len(image) - 1): # skip edges (0), len(image)\n",
    "        # extract a 3x3 matrix from the image\n",
    "        region = image[i-1:i+2, j-1:j+2] # i-1:i+2, j-1:j+2\n",
    "        # perform convolution between the image patch and the filter\n",
    "        conv = region * filter_ # (3, 3) * (3, 3) = (3, 3)\n",
    "        # sum all the values and add it to the feature map\n",
    "        feature_map[i-1, j-1] = np.sum(conv) # (3, 3) -> (1, 1)"
   ]
  },
  {
   "cell_type": "code",
   "execution_count": 21,
   "metadata": {},
   "outputs": [],
   "source": [
    "def conv2d(input, kernel):\n",
    "    # Get the dimensions of the input matrix and the kernel.\n",
    "    input_dim = input.shape[0]  # Assuming square matrix, just take one dimension size.\n",
    "    kernel_dim = kernel.shape[0]       # Similarly, assuming square kernel.\n",
    "    \n",
    "    # Calculate the dimensions of the output feature map.\n",
    "    # Formula: Output size = (Input size - Kernel size + 1)\n",
    "    output_dim = input_dim - kernel_dim + 1  \n",
    "    feature_map = np.zeros((output_dim, output_dim))  # Initialize the output feature map to zeros.\n",
    "    \n",
    "    # Loop through the input matrix to perform the convolution operation.\n",
    "    for i in range(1, input_dim - kernel_dim + 2):  # Loop through rows\n",
    "        for j in range(1, input_dim - kernel_dim + 2):  # Loop through columns\n",
    "            \n",
    "            # Extract a 'receptive field' from the input matrix to multiply with the kernel.\n",
    "            # This is the region of the input matrix that the kernel will 'see'.\n",
    "            receptive_field = input[i-1:i-1+kernel_dim, j-1:j-1+kernel_dim]\n",
    "            \n",
    "            # Perform element-wise multiplication between the receptive field and the kernel,\n",
    "            # and then sum it up to get a single value. This value becomes one element in the output feature map.\n",
    "            feature_map[i-1, j-1] = np.sum(receptive_field * kernel)\n",
    "            \n",
    "    return feature_map  # Return the completed feature map"
   ]
  }
 ],
 "metadata": {
  "kernelspec": {
   "display_name": "venv",
   "language": "python",
   "name": "python3"
  },
  "language_info": {
   "codemirror_mode": {
    "name": "ipython",
    "version": 3
   },
   "file_extension": ".py",
   "mimetype": "text/x-python",
   "name": "python",
   "nbconvert_exporter": "python",
   "pygments_lexer": "ipython3",
   "version": "3.10.0"
  }
 },
 "nbformat": 4,
 "nbformat_minor": 2
}
