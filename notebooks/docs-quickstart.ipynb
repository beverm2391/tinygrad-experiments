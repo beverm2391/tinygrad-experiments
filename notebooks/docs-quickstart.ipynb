{
 "cells": [
  {
   "cell_type": "code",
   "execution_count": 11,
   "metadata": {},
   "outputs": [],
   "source": [
    "import numpy as np\n",
    "import os\n",
    "\n",
    "os.environ['DEBUG'] = '1'\n",
    "\n",
    "from tinygrad.helpers import Timing\n",
    "from tinygrad.tensor import Tensor\n",
    "from tinygrad.nn import Linear\n",
    "from tinygrad.nn.optim import SGD\n",
    "\n",
    "from lib.utils import get_mnist"
   ]
  },
  {
   "cell_type": "code",
   "execution_count": 12,
   "metadata": {},
   "outputs": [],
   "source": [
    "X_train, Y_train, X_test, Y_test = get_mnist(\"../data\")"
   ]
  },
  {
   "cell_type": "code",
   "execution_count": 13,
   "metadata": {},
   "outputs": [],
   "source": [
    "class TinyNet:\n",
    "    def __init__(self):\n",
    "        self.l1 = Linear(784, 128, bias=False)\n",
    "        self.l2 = Linear(128, 10, bias=False)\n",
    "\n",
    "    def __call__(self, x):\n",
    "        x = self.l1(x)\n",
    "        x = x.leakyrelu()\n",
    "        x = self.l2(x)\n",
    "        return x\n",
    "\n",
    "net = TinyNet()"
   ]
  },
  {
   "cell_type": "code",
   "execution_count": 14,
   "metadata": {},
   "outputs": [],
   "source": [
    "opt = SGD([net.l1.weight, net.l2.weight], lr=3e-4)"
   ]
  },
  {
   "cell_type": "code",
   "execution_count": 16,
   "metadata": {},
   "outputs": [
    {
     "name": "stdout",
     "output_type": "stream",
     "text": [
      "Step 1 | Loss: 2.2292 | Accuracy: 0.2969\n",
      "Step 101 | Loss: 2.2327 | Accuracy: 0.2812\n",
      "Step 201 | Loss: 2.2316 | Accuracy: 0.3125\n",
      "Step 301 | Loss: 2.2431 | Accuracy: 0.2344\n",
      "Step 401 | Loss: 2.1986 | Accuracy: 0.3906\n",
      "Step 501 | Loss: 2.2214 | Accuracy: 0.3125\n",
      "Step 601 | Loss: 2.2249 | Accuracy: 0.3125\n",
      "Step 701 | Loss: 2.2249 | Accuracy: 0.2812\n",
      "Step 801 | Loss: 2.2247 | Accuracy: 0.2812\n",
      "Step 901 | Loss: 2.1997 | Accuracy: 0.3281\n"
     ]
    }
   ],
   "source": [
    "with Tensor.train():\n",
    "    for step in range(1000):\n",
    "        # random sample a batch\n",
    "        samp = np.random.randint(0, X_train.shape[0], size=(64))\n",
    "        batch = Tensor(X_train[samp], requires_grad=False)\n",
    "        # get the corresponding labels\n",
    "        labels = Tensor(Y_train[samp])\n",
    "\n",
    "        # forward pass\n",
    "        out = net(batch)\n",
    "        # compute loss\n",
    "        loss = out.sparse_categorical_crossentropy(labels)\n",
    "\n",
    "        # zero gradients\n",
    "        opt.zero_grad()\n",
    "\n",
    "        # backward pass\n",
    "        loss.backward()\n",
    "\n",
    "        # update parameters\n",
    "        opt.step()\n",
    "\n",
    "        # calculate accuracy\n",
    "        pred = out.argmax(axis=-1)\n",
    "        acc = (pred == labels).mean()\n",
    "\n",
    "        if step % 100 == 0:\n",
    "            print(f\"Step {step+1} | Loss: {loss.numpy():0.4f} | Accuracy: {acc.numpy():0.4f}\")    "
   ]
  },
  {
   "cell_type": "code",
   "execution_count": 18,
   "metadata": {},
   "outputs": [
    {
     "name": "stdout",
     "output_type": "stream",
     "text": [
      "Test Accuracy: 0.3912\n",
      "Time: 6174.39 ms\n"
     ]
    }
   ],
   "source": [
    "with Timing(\"Time: \"):\n",
    "    avg_acc = 0\n",
    "    for step in range(1000):\n",
    "        # random sample a batch\n",
    "        samp = np.random.randint(0, X_test.shape[0], size=(64))\n",
    "        batch = Tensor(X_test[samp], requires_grad=False)\n",
    "        # get the corresponding labels\n",
    "        labels = Y_test[samp]\n",
    "\n",
    "        # forward pass\n",
    "        out = net(batch)\n",
    "\n",
    "        # calculate accuracy\n",
    "        pred = out.argmax(axis=-1).numpy()\n",
    "        avg_acc += (pred == labels).mean()\n",
    "    print(f\"Test Accuracy: {avg_acc / 1000:0.4f}\")"
   ]
  }
 ],
 "metadata": {
  "kernelspec": {
   "display_name": "venv",
   "language": "python",
   "name": "python3"
  },
  "language_info": {
   "codemirror_mode": {
    "name": "ipython",
    "version": 3
   },
   "file_extension": ".py",
   "mimetype": "text/x-python",
   "name": "python",
   "nbconvert_exporter": "python",
   "pygments_lexer": "ipython3",
   "version": "3.10.0"
  }
 },
 "nbformat": 4,
 "nbformat_minor": 2
}
