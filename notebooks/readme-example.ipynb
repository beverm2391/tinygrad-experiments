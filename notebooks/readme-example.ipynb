{
 "cells": [
  {
   "cell_type": "code",
   "execution_count": 1,
   "metadata": {},
   "outputs": [],
   "source": [
    "import os\n",
    "os.environ['DEBUG'] = '0'  # Set it to a string that can be converted to an integer\n",
    "\n",
    "import numpy as np\n",
    "\n",
    "from tinygrad.tensor import Tensor\n",
    "import tinygrad.nn.optim as optim"
   ]
  },
  {
   "cell_type": "markdown",
   "metadata": {},
   "source": [
    "## First lets test autograd"
   ]
  },
  {
   "cell_type": "code",
   "execution_count": 2,
   "metadata": {},
   "outputs": [
    {
     "name": "stdout",
     "output_type": "stream",
     "text": [
      "<Tensor <LB (2, 3) dtypes.float op=MovementOps.RESHAPE st=ShapeTracker(views=(View(shape=(2, 3), strides=(3, 1), offset=0, mask=None, contiguous=True),))> on METAL with grad None>\n",
      "<Tensor <LB (3, 2) dtypes.float op=MovementOps.RESHAPE st=ShapeTracker(views=(View(shape=(3, 2), strides=(1, 3), offset=0, mask=None, contiguous=False),))> on METAL with grad None>\n"
     ]
    }
   ],
   "source": [
    "a = np.random.randn(2, 3)\n",
    "b = np.random.randn(3, 2)\n",
    "\n",
    "\n",
    "a_tensor = Tensor(a, requires_grad=True)\n",
    "b_tensor = Tensor(b, requires_grad=True)\n",
    "\n",
    "c_tensor = a_tensor @ b_tensor\n",
    "c_tensor.sum().backward()\n",
    "\n",
    "print(a_tensor.grad)\n",
    "print(b_tensor.grad)"
   ]
  },
  {
   "cell_type": "markdown",
   "metadata": {},
   "source": [
    "## Okay lets try a net"
   ]
  },
  {
   "cell_type": "code",
   "execution_count": null,
   "metadata": {},
   "outputs": [],
   "source": [
    "class TinyBobNet:\n",
    "    def __init__(self):\n",
    "        self.l1 = Tensor.uniform(784, 128) # 784 is the size of MNIST image vectors\n",
    "        self.l2 = Tensor.uniform(128, 10) # 10 is the number of classes\n",
    "\n",
    "    def forward(self, x: Tensor):\n",
    "        return x.dot(self.l1).relu().dot(self.l2).log_softmax() # log_softmax for better numerical stability\n",
    "\n",
    "model = TinyBobNet()\n",
    "optim = optim.SGD([model.l1, model.l2], lr=0.001)\n",
    "\n"
   ]
  }
 ],
 "metadata": {
  "kernelspec": {
   "display_name": "venv",
   "language": "python",
   "name": "python3"
  },
  "language_info": {
   "codemirror_mode": {
    "name": "ipython",
    "version": 3
   },
   "file_extension": ".py",
   "mimetype": "text/x-python",
   "name": "python",
   "nbconvert_exporter": "python",
   "pygments_lexer": "ipython3",
   "version": "3.10.0"
  }
 },
 "nbformat": 4,
 "nbformat_minor": 2
}
