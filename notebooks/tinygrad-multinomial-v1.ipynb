{
 "cells": [
  {
   "cell_type": "code",
   "execution_count": 72,
   "metadata": {},
   "outputs": [],
   "source": [
    "import os\n",
    "os.environ[\"DEBUG\"] = \"1\"\n",
    "\n",
    "import torch\n",
    "import numpy as np\n",
    "\n",
    "from tinygrad.tensor import Tensor\n",
    "from tinygrad.helpers import dtypes\n",
    "from tinygrad.ops import Device\n",
    "Device.DEFAULT = \"CPU\""
   ]
  },
  {
   "cell_type": "markdown",
   "metadata": {},
   "source": [
    "## Psuedocode\n",
    "\n",
    "```\n",
    "- input\n",
    "    - input tensor (ndim=1 or ndim=2)\n",
    "    - n is the number of samples to draw\n",
    "    - replacement (bool) whether to draw with replacement or not\n",
    "- validate input\n",
    "    - make sure input is a tensor of ndim=1 or ndim=2, else raise error\n",
    "    - make sure there's no negative values in the input tensor, else raise error\n",
    "    - make sure there are no null values in the input tensor, else raise error\n",
    "    - make sure the sum of the input tensor is 1, else raise error (or normalize it - pytorch does not automatically normalize i think)\n",
    "- errors\n",
    "    - if replacement is False, and n > k (len of input tensor), raise error \n",
    "```\n",
    "\n",
    "```\n",
    "function multinomial(input_tensor, n_samples, replacement)\n",
    "    validate input\n",
    "    check replacement logic, raise error if necessary\n",
    "\n",
    "    if 2D tensor, iterate over each row:\n",
    "        normalize if necessary\n",
    "        calculate the CDF\n",
    "        get the random numbers\n",
    "        convert the random numbers to indices based on the CDF\n",
    "        return the indices\n",
    "    else if 1D tensor:\n",
    "        normalize if necessary\n",
    "        calculate the CDF\n",
    "        get the random numbers\n",
    "        convert the random numbers to indices based on the CDF\n",
    "        return the indices\n",
    "```\n",
    "\n",
    "```\n",
    "multinomial(input_tensor, n_samples, replacement)\n",
    "    validation logic\n",
    "    replacment logic\n",
    "    def multinomial_1d(input_tensor of ndim=1, n_samples, replacement)\n",
    "        normalize if necessary\n",
    "        calculate the CDF\n",
    "        get the random numbers\n",
    "        convert the random numbers to indices based on the CDF\n",
    "        return the indices\n",
    "\n",
    "    if 2d:\n",
    "        for each row:\n",
    "            multinomial_1d(row, n_samples, replacement)\n",
    "    else:\n",
    "        multinomial_1d(input_tensor, n_samples, replacement)\n",
    "\n",
    "    return the indices\n",
    "```"
   ]
  },
  {
   "cell_type": "code",
   "execution_count": null,
   "metadata": {},
   "outputs": [],
   "source": [
    "@staticmethod\n",
    "def multinomial(input: Tensor, num_samples: int, replacement: bool = False):\n",
    "    assert isinstance(input, Tensor) and (input.ndim == 1 or input.ndim == 2), \"input must be a 1 or 2-dimensional tensor\"\n",
    "    assert isinstance(num_samples, int) and num_samples > 0, \"num_samples must be a positive integer\"\n",
    "    if replacement == False:\n",
    "        assert num_samples <= input.numel(), f\"num_samples: {num_samples} must be less than or equal to the number of elements in input tensor: {input.numel()}\"\n",
    "        # TODO: implement without replacement\n",
    "        raise NotImplementedError(\"multinomial without replacement not implemented\")\n",
    "    \n",
    "    def multinomial_1d(input: Tensor, num_samples: int, replacement: bool = False):\n",
    "        assert input.ndim == 1, \"input must be a 1-dimensional tensor\"\n",
    "        assert num_samples <= input.numel(), f\"num_samples: {num_samples} must be less than or equal to the number of elements in input tensor: {input.numel()}\"\n",
    "        \n",
    "        cumsum = input.cumsum()\n",
    "        # generate random numbers \n",
    "        rand = Tensor.rand(num_samples, 1)\n",
    "        # compute indices\n",
    "        indices = (cumsum.unsqueeze(1) < rand).sum(axis=0)\n",
    "        return indices\n",
    "    "
   ]
  },
  {
   "cell_type": "code",
   "execution_count": 43,
   "metadata": {},
   "outputs": [],
   "source": [
    "t_1d = Tensor([0.1, 0.2, 0.3, 0.4]) # 1-dimensional tensor\n",
    "num_samples = 4 # number of samples to draw\n",
    "\n",
    "cdf = t_1d.cumsum()\n",
    "# print(f\"cdf: {cdf.numpy()}\")\n",
    "assert cdf == (expected_cdf := Tensor([0.1, 0.3, 0.6, 1.0])), f\"Expected cdf: {expected_cdf.numpy()}, got cdf: {cdf.numpy()}\"\n",
    "\n",
    "\n",
    "rand = Tensor([[0.5488], [0.7152], [0.6028], [0.5449]]) # mock random numbers for testing equal to the number of samples\n",
    "# print(f\"rand: {rand.numpy()}\")\n",
    "# get first index where cdf is greater than random number\n",
    "indices = (rand.expand(num_samples, t_1d.numel()) >= cdf).sum(1) # why does this work???\n",
    "# print(f\"indices: {indices.numpy()}\")\n",
    "expected_indices = Tensor([2, 3, 3, 2])\n",
    "assert indices == expected_indices, f\"Expected indices: {expected_indices.numpy()}, got indices: {indices.numpy()}\""
   ]
  },
  {
   "cell_type": "code",
   "execution_count": 109,
   "metadata": {},
   "outputs": [],
   "source": [
    "def muntinomial(input: Tensor, num_samples: int, replacement=False):\n",
    "    assert isinstance(input, Tensor) and (input.ndim == 1 or input.ndim == 2), \"input must be a 1 or 2-dimensional tensor\"\n",
    "    assert isinstance(num_samples, int) and num_samples > 0, \"num_samples must be a positive integer\"\n",
    "    if replacement == False:\n",
    "        assert num_samples <= input.numel(), f\"num_samples: {num_samples} must be less than or equal to the number of elements in input tensor: {input.numel()}\"\n",
    "        # TODO: implement without replacement\n",
    "        raise NotImplementedError(\"multinomial without replacement not implemented\")\n",
    "    \n",
    "    def _multinomial_1D(input: Tensor, num_samples: int, replacement=replacement):\n",
    "        assert input.ndim == 1, \"input must be a 1-dimensional tensor\"\n",
    "        cdf = input.cumsum()\n",
    "        cdf /= cdf[-1] # normalize the cdf (you could normalize the input tensor instead) (this needs to be across rows)\n",
    "        unif_samples = Tensor.rand(num_samples, 1)\n",
    "        indices = (unif_samples.expand(num_samples, input.numel()) >= cdf).sum(1) # expand is O(1), comparison is O(n * m), sum is O(m * n)\n",
    "        return indices\n",
    "    \n",
    "    return Tensor.stack([_multinomial_1D(row, num_samples, replacement) for row in input])\\\n",
    "        if input.ndim == 2 else _multinomial_1D(input, num_samples, replacement)\n"
   ]
  },
  {
   "cell_type": "code",
   "execution_count": 126,
   "metadata": {},
   "outputs": [],
   "source": [
    "def multinomial_optim(input: Tensor, num_samples, replacement=False):\n",
    "    assert isinstance(input, Tensor) and (input.ndim in [1, 2]), \"input must be a 1 or 2-dimensional tensor\"\n",
    "    assert isinstance(num_samples, int) and num_samples > 0, \"num_samples must be a positive integer\"\n",
    "\n",
    "    if not replacement:\n",
    "        assert num_samples <= input.numel(), f\"num_samples: {num_samples} must be less than or equal to the number of elements in input tensor: {input.numel()}\"\n",
    "        raise NotImplementedError(\"multinomial without replacement not implemented\")\n",
    "\n",
    "    if input.ndim == 1: input = input.reshape(1, -1) # Reshape input to 2D if it's 1D\n",
    "    input = input / input.sum(1, keepdim=True) # Normalize each row of the input tensor\n",
    "    cdf = input.cumsum(1) # Compute CDF for each row\n",
    "    unif_samples = Tensor.rand(num_samples, input.shape[0]) # Generate uniform random samples\n",
    "    indices = (unif_samples.unsqueeze(2) >= cdf.unsqueeze(0)).sum(1) # Determine indices by comparing samples with CDF\n",
    "    return indices\n"
   ]
  },
  {
   "cell_type": "code",
   "execution_count": 128,
   "metadata": {},
   "outputs": [],
   "source": [
    "t = Tensor([[0.1, 0.2, 0.3, 0.4], [0.1, 0.2, 0.3, 0.4], [1, 2, 3, 3]]) # 2-dimensional tensor\n",
    "\n",
    "optim = multinomial_optim(t, 5, replacement=True)\n",
    "non_optim = muntinomial(t, 5, replacement=True)"
   ]
  },
  {
   "cell_type": "code",
   "execution_count": 129,
   "metadata": {},
   "outputs": [
    {
     "name": "stdout",
     "output_type": "stream",
     "text": [
      "optim: [[3. 3. 2. 0.]\n",
      " [3. 2. 0. 0.]\n",
      " [3. 2. 2. 0.]\n",
      " [3. 2. 2. 0.]\n",
      " [3. 2. 1. 0.]]\n",
      "non_optim: [[1. 1. 2. 3. 3.]\n",
      " [1. 1. 3. 1. 1.]\n",
      " [3. 3. 2. 3. 3.]]\n"
     ]
    }
   ],
   "source": [
    "print(f\"optim: {optim.numpy()}\")\n",
    "print(f\"non_optim: {non_optim.numpy()}\")"
   ]
  },
  {
   "cell_type": "code",
   "execution_count": 110,
   "metadata": {},
   "outputs": [
    {
     "name": "stdout",
     "output_type": "stream",
     "text": [
      "476.379\n",
      "490.792\n",
      "498.95505\n",
      "499.520523\n"
     ]
    }
   ],
   "source": [
    "arr_1d = np.random.rand(1000)\n",
    "arr_2d = np.random.rand(1000, 1000)\n",
    "\n",
    "t_1d = Tensor(arr_1d)\n",
    "t_2d = Tensor(arr_2d)\n",
    "\n",
    "pt_1d = torch.tensor(arr_1d)\n",
    "pt_2d = torch.tensor(arr_2d)\n",
    "\n",
    "assert np.allclose(pt_1d.numpy(), t_1d.numpy()), f\"pt_1d: {pt_1d.numpy()} != t_1d: {t_1d.numpy()}\"\n",
    "\n",
    "num_samples = 1000\n",
    "\n",
    "# test pytorchs multinomial\n",
    "pt_indices_1d = torch.multinomial(pt_1d, num_samples, replacement=True).numpy()\n",
    "pt_indices_2d = torch.multinomial(pt_2d, num_samples, replacement=True).numpy()\n",
    "\n",
    "# test tinygrads multinomial\n",
    "indices_1d = muntinomial(t_1d, num_samples, replacement=True).numpy()\n",
    "indices_2d = muntinomial(t_2d, num_samples, replacement=True).numpy()\n",
    "\n",
    "print(np.mean(indices_1d))\n",
    "print(np.mean(pt_indices_1d))\n",
    "\n",
    "print(np.mean(indices_2d))\n",
    "print(np.mean(pt_indices_2d))"
   ]
  }
 ],
 "metadata": {
  "kernelspec": {
   "display_name": "venv",
   "language": "python",
   "name": "python3"
  },
  "language_info": {
   "codemirror_mode": {
    "name": "ipython",
    "version": 3
   },
   "file_extension": ".py",
   "mimetype": "text/x-python",
   "name": "python",
   "nbconvert_exporter": "python",
   "pygments_lexer": "ipython3",
   "version": "3.10.0"
  }
 },
 "nbformat": 4,
 "nbformat_minor": 2
}
